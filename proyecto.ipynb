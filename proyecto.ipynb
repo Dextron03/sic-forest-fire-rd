{
 "cells": [
  {
   "cell_type": "markdown",
   "metadata": {},
   "source": [
    "# Grupo: Master AI.\n",
    "\n",
    "##### ANÁLISIS DE LAS CAUSAS DE INCENDIOS FORESTALES EN REPÚBLICA DOMINICANA EN LOS ÚLTIMOS AÑOS (2021-2024).\n",
    "\n",
    "Enlace al repositorio: https://github.com/Edwinroman30/sic-forest-fire-rd"
   ]
  },
  {
   "cell_type": "markdown",
   "metadata": {},
   "source": [
    "Integrantes:\n",
    "- Edwin Roman\n",
    "- Braily Roman\n",
    "- Bryan Jimenez\n",
    "- Franyer Sanchez"
   ]
  }
 ],
 "metadata": {
  "language_info": {
   "name": "python"
  }
 },
 "nbformat": 4,
 "nbformat_minor": 2
}
