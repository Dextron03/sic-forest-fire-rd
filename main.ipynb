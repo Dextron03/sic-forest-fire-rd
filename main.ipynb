{
 "cells": [
  {
   "cell_type": "code",
   "execution_count": null,
   "metadata": {},
   "outputs": [],
   "source": [
    "import pandas as pd\n",
    "import matplotlib.pyplot as plt\n",
    "from datetime import datetime as dt"
   ]
  },
  {
   "cell_type": "code",
   "execution_count": null,
   "metadata": {},
   "outputs": [],
   "source": [
    "def fr_mes(fire):\n",
    "    #Crea otro DataFrame solo con las columnas deseadas\n",
    "    delete = [\"Municipio\", \"Provincia\", \"Mes de extincion\", \"Area Afectada en Tareas\", \"Metros Cuadrados\", \"Dia de origen\", \"Dia extincion\", \"Fecha origen\", \"Fecha Extincion\", \"Fecha Mes\"]\n",
    "    f_clean = fire.drop(delete, axis= 1)\n",
    "    print(f_clean.head())"
   ]
  },
  {
   "cell_type": "code",
   "execution_count": null,
   "metadata": {},
   "outputs": [],
   "source": [
    "def d_prom(fire): #extrae la duracion promedio de los incendios en el dataframe\n",
    "    #Crea otro DataFrame solo con las columnas deseadas\n",
    "    delete = [\"Municipio\", \"Provincia\", \"Causas\", \"Area Afectada en Tareas\", \"Metros Cuadrados\", \"Dia de origen\", \"Dia extincion\"]\n",
    "    f_clean = fire.drop(delete, axis= 1).sort_values(by='no.')\n",
    "\n",
    "    #Convierte el continido de las columnas a utilizar en tipo DateTime\n",
    "    f_clean[\"Fecha origen\"] = pd.to_datetime(f_clean[\"Fecha origen\"], format='%m/%d/%Y')\n",
    "    f_clean[\"Fecha Extincion\"] = pd.to_datetime(f_clean[\"Fecha Extincion\"], format='%m/%d/%Y')\n",
    "\n",
    "    #Se descubrio que algunas informaciones sobre meses estaban erroneas, por lo que a continuacion se corrigen\n",
    "    f_clean.loc[f_clean['Fecha Extincion'] < f_clean['Fecha origen'], 'Fecha Extincion'] = f_clean.loc[f_clean['Fecha Extincion'] < f_clean['Fecha origen'], 'Fecha Extincion'].apply(sum_m)\n",
    "\n",
    "    #Crea otra columna con la diferencia en dias entre la fecha de inicio de los incendios y la fecha de extincion\n",
    "    f_clean[\"Duracion en Dias\"] = (f_clean[\"Fecha Extincion\"] - f_clean[\"Fecha origen\"]).dt.days\n",
    "\n",
    "    #Grafica la informacion obtenida\n",
    "    plt.plot(f_clean[\"no.\"], f_clean[\"Duracion en Dias\"])\n",
    "    plt.title(\"Duracion de cada incendio forestal\")\n",
    "    plt.xlabel(\"no. del incendio\")\n",
    "    plt.ylabel(\"Dias\")\n",
    "    plt.grid()\n",
    "    plt.show()\n",
    "    print(f_clean.head())\n",
    "\n",
    "\n",
    "def sum_m(fecha):\n",
    "  fecha = dt.strftime(fecha, \"%m-%d-%Y\")\n",
    "  m, d, y = fecha.split(\"-\")\n",
    "  m = int(m) + 1\n",
    "  return dt.strptime(f\"{m}-{d}-{y}\", \"%m-%d-%Y\")"
   ]
  }
 ],
 "metadata": {
  "language_info": {
   "name": "python"
  }
 },
 "nbformat": 4,
 "nbformat_minor": 2
}
