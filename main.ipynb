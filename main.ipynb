{
 "cells": [
  {
   "cell_type": "markdown",
   "metadata": {},
   "source": [
    "<h1 align=\"center\">\n",
    "PROYECTO:    \n",
    "    \n",
    "<h6 align=\"center\"> ANÁLISIS DE LAS CAUSALES DE INCENDIOS FORESTALES EN REPÚBLICA DOMINICANA EN LOS ÚLTIMOS 5 AÑOS. </h6>\n",
    "\n",
    "</h1>"
   ]
  },
  {
   "cell_type": "markdown",
   "metadata": {},
   "source": [
    "El proyecto de análisis de las causas de los incendios forestales en la República Dominicana genera varios valores sociales importantes. En primer lugar, desde una perspectiva medioambiental, busca contribuir a la preservación y protección de los recursos naturales del país, especialmente sus bosques y áreas forestales.\n",
    "\n",
    "Reducir la incidencia de incendios forestales podría ayudar a conservar la biodiversidad, proteger los hábitats de la vida silvestre y mitigar el cambio climático al preservar los sumideros de carbono. Además, desde un punto de vista social, el proyecto busca proteger las comunidades cercanas a estas áreas, así como la infraestructura y los recursos económicos que dependen de los ecosistemas forestales.\n"
   ]
  },
  {
   "cell_type": "markdown",
   "metadata": {},
   "source": [
    "### Indice:\n",
    "- Fuentes de datos.\n",
    "- Preguntas de análisis.\n",
    "- Desarrollo.\n",
    "- Conclusiones.\n",
    "- Participantes."
   ]
  },
  {
   "cell_type": "markdown",
   "metadata": {},
   "source": [
    "#### Fuentes de datos:\n",
    "\n",
    "- ###### Kaggle: https://www.kaggle.com/datasets/mbritofer/datosabiertosrd\n",
    "\n",
    "- ###### Ministerio de Medios Ambiente: https://ambiente.gob.do/informacion-ambiental/estadisticas-ambientales/#548-720-2023-bosque"
   ]
  },
  {
   "cell_type": "code",
   "execution_count": null,
   "metadata": {},
   "outputs": [],
   "source": [
    "import pandas as pd\n",
    "import numpy as np\n",
    "import matplotlib.pyplot as plt\n",
    "from datetime import datetime as dt"
   ]
  },
  {
   "cell_type": "code",
   "execution_count": null,
   "metadata": {},
   "outputs": [],
   "source": [
    "data = pd.read_csv(\"./data/Incendios-Forestales-2021.csv\", parse_dates=[\"Fecha origen\", \"Fecha Extincion\"])\n",
    "data.rename({\"Mes de origen \": \"Mes de origen\"}, axis=1, inplace=True)\n",
    "\n",
    "print(data.info())"
   ]
  },
  {
   "cell_type": "code",
   "execution_count": null,
   "metadata": {},
   "outputs": [],
   "source": [
    "data.head(5)"
   ]
  },
  {
   "cell_type": "markdown",
   "metadata": {},
   "source": [
    "# Preguntas de análisis:"
   ]
  },
  {
   "cell_type": "markdown",
   "metadata": {},
   "source": [
    "## ¿Cuáles son las causas más comunes de los incendios forestales? (Refactoriazada)"
   ]
  },
  {
   "cell_type": "code",
   "execution_count": null,
   "metadata": {},
   "outputs": [],
   "source": [
    "df_causes = data.loc[:, [\"Causas\"]]"
   ]
  },
  {
   "cell_type": "code",
   "execution_count": null,
   "metadata": {},
   "outputs": [],
   "source": [
    "causes = data[\"Causas\"].value_counts()"
   ]
  },
  {
   "cell_type": "code",
   "execution_count": null,
   "metadata": {},
   "outputs": [],
   "source": [
    "# Graficar\n",
    "causes.plot(kind='barh')\n",
    "\n",
    "# Agregar etiquetas y título\n",
    "plt.xlabel('Cantidad de veces')\n",
    "plt.ylabel('Causa del Incendio')\n",
    "plt.title('Frecuencia de Ocurrencia por Causa')\n",
    "\n",
    "# Mostrar el gráfico\n",
    "plt.show()"
   ]
  },
  {
   "cell_type": "markdown",
   "metadata": {},
   "source": [
    "## ¿Cuáles son los municipios/provincias más afectados por los incendios forestales?(Refactorizada)\n"
   ]
  },
  {
   "cell_type": "markdown",
   "metadata": {},
   "source": [
    "### Municipios"
   ]
  },
  {
   "cell_type": "code",
   "execution_count": null,
   "metadata": {},
   "outputs": [],
   "source": [
    "df_forest_fires = data.loc[:, [\"Municipio\",\"Provincia\"]]\n",
    "\n",
    "df_all_municipalities =  df_forest_fires[\"Municipio\"].value_counts()\n"
   ]
  },
  {
   "cell_type": "code",
   "execution_count": null,
   "metadata": {},
   "outputs": [],
   "source": [
    "df_all_municipalities.plot(kind='barh')\n",
    "plt.subplots_adjust(left=0.1, right=0.9, top=1.5, bottom=0.1)\n",
    "\n",
    "# Agregar etiquetas y título\n",
    "plt.xlabel('Cantidades de incendios')\n",
    "plt.ylabel('Municios')\n",
    "plt.title('Cantidad de Incendios segun el Municipio.')\n",
    "\n",
    "# Mostrar el gráfico\n",
    "plt.show()"
   ]
  },
  {
   "cell_type": "markdown",
   "metadata": {},
   "source": [
    "### Provincias"
   ]
  },
  {
   "cell_type": "code",
   "execution_count": null,
   "metadata": {},
   "outputs": [],
   "source": [
    "df_all_province = df_forest_fires[\"Provincia\"].value_counts()"
   ]
  },
  {
   "cell_type": "code",
   "execution_count": null,
   "metadata": {},
   "outputs": [],
   "source": [
    "df_all_province.plot(kind='barh')\n",
    "plt.subplots_adjust(left=0.1, right=0.9, top=1.5, bottom=0.1)\n",
    "\n",
    "# Agregar etiquetas y título\n",
    "plt.xlabel('Cantidades de incendios')\n",
    "plt.ylabel('Provincias')\n",
    "plt.title('Cantidad de Incendios Segun la Provincia.')\n",
    "\n",
    "# Mostrar el gráfico\n",
    "plt.show()"
   ]
  },
  {
   "cell_type": "code",
   "execution_count": null,
   "metadata": {},
   "outputs": [],
   "source": [
    "import folium\n",
    "# Coordenadas\n",
    "coordenadas_provincia_mas_afectada = [\n",
    "    [19.177711, -71.321072],\n",
    "    [19.107247, -71.351460],\n",
    "    [19.124213, -71.467486],\n",
    "    [19.000188, -71.519974],\n",
    "    [18.945327, -71.642907],\n",
    "    [18.938085, -71.618160],\n",
    "    [18.891633, -71.637928],\n",
    "    [18.883186, -71.653233],\n",
    "    [18.875946, -71.632189],\n",
    "    [18.886203, -71.616884],\n",
    "    [18.804777, -71.630145],\n",
    "    [18.783268, -71.567662],\n",
    "    [18.657242, -71.577690],\n",
    "    [18.677290, -71.784762],\n",
    "    [18.705925, -71.788541],\n",
    "    [18.722388, -71.737907],\n",
    "    [18.881209, -71.724303],\n",
    "    [18.907598, -71.768656],\n",
    "    [18.954779, -71.782260],\n",
    "    [18.942628, -71.881261],\n",
    "    [18.942628, -71.881261],\n",
    "    [18.959782, -71.887307],\n",
    "    [18.959782, -71.887307],\n",
    "    [19.134874, -71.647647],\n",
    "    [19.281773, -71.591141],\n",
    "    [19.173181, -71.318580]\n",
    "]\n",
    "\n",
    "\n",
    "# Crear un mapa centrado en la República Dominicana\n",
    "mapa = folium.Map(location=[18.735693, -70.162651], zoom_start=9)\n"
   ]
  },
  {
   "cell_type": "code",
   "execution_count": null,
   "metadata": {},
   "outputs": [],
   "source": [
    "\n",
    "# Marcar las coordenadas\n",
    "folium.Polygon(locations=coordenadas_provincia_mas_afectada, color='blue', fill=True, fill_color='blue', fill_opacity=0.4).add_to(mapa)"
   ]
  },
  {
   "cell_type": "code",
   "execution_count": null,
   "metadata": {},
   "outputs": [],
   "source": [
    "\n",
    "# Mostrar el mapa\n",
    "mapa"
   ]
  },
  {
   "cell_type": "markdown",
   "metadata": {},
   "source": [
    "## ¿Hay algún patrón estacional en la ocurrencia de los incendios forestales?\n"
   ]
  },
  {
   "cell_type": "code",
   "execution_count": null,
   "metadata": {},
   "outputs": [],
   "source": [
    "#¿Hay algún patrón estacional en la ocurrencia de los incendios forestales?\n",
    "\n",
    "def fr_mes(fire):\n",
    "    #Crea una serie con la cantidad de incendios por mes \n",
    "    fire_mes = pd.Series(fire[\"Mes de origen\"].value_counts())\n",
    "\n",
    "    #Grafica la informacion obtenida\n",
    "    plt.figure(figsize=(12, 5))\n",
    "    plt.bar(fire_mes.index, fire_mes.values)\n",
    "    plt.title(\"Cantidad de incendios por mes\")\n",
    "    plt.xlabel(\"Meses\")\n",
    "    plt.ylabel(\"Cantidad de incendios\")\n",
    "    plt.show()\n",
    "\n",
    "\n",
    "fr_mes(data)"
   ]
  },
  {
   "cell_type": "markdown",
   "metadata": {},
   "source": [
    "## ¿Cuál es la duración promedio de un incendio forestal?"
   ]
  },
  {
   "cell_type": "code",
   "execution_count": null,
   "metadata": {},
   "outputs": [],
   "source": [
    "#¿Cuál es la duración promedio de un incendio forestal?\n",
    "\n",
    "def d_prom(fire): #extrae la duracion promedio de los incendios en el dataframe\n",
    "    #Crea otro DataFrame solo con las columnas deseadas\n",
    "    delete = [\"Municipio\", \"Provincia\", \"Fecha Mes\", \"Causas\", \"Area Afectada en Tareas\", \"Metros Cuadrados\", \"Dia de origen\", \"Dia extincion\"]\n",
    "    f_clean = fire.drop(delete, axis= 1).sort_values(by='no.')\n",
    "\n",
    "    #Convierte el continido de las columnas a utilizar en tipo DateTime\n",
    "    f_clean[\"Fecha origen\"] = pd.to_datetime(f_clean[\"Fecha origen\"], format='%m/%d/%Y')\n",
    "    f_clean[\"Fecha Extincion\"] = pd.to_datetime(f_clean[\"Fecha Extincion\"], format='%m/%d/%Y')\n",
    "\n",
    "    #Se descubrio que algunas informaciones sobre meses estaban erroneas, por lo que a continuacion se corrigen\n",
    "    f_clean.loc[f_clean['Fecha Extincion'] < f_clean['Fecha origen'], 'Fecha Extincion'] = f_clean.loc[f_clean['Fecha Extincion'] < f_clean['Fecha origen'], 'Fecha Extincion'].apply(sum_m)\n",
    "\n",
    "    #Crea otra columna con la diferencia en dias entre la fecha de inicio de los incendios y la fecha de extincion\n",
    "    f_clean[\"Duracion en Dias\"] = (f_clean[\"Fecha Extincion\"] - f_clean[\"Fecha origen\"]).dt.days\n",
    "\n",
    "    #Grafica Duracion de cada incendio forestal\n",
    "    plt.figure(figsize=(12, 6))\n",
    "    plt.scatter(f_clean[\"no.\"], f_clean[\"Duracion en Dias\"])\n",
    "    plt.title(\"Duracion de cada incendio forestal\")\n",
    "    plt.xlabel(\"no. del incendio\")\n",
    "    plt.ylabel(\"Dias\")\n",
    "    plt.grid()\n",
    "    prom = np.mean(f_clean[\"Duracion en Dias\"])\n",
    "    plt.axhline(y=prom, color='r', linestyle='--', label=f'Promedio de dias = {prom:.2f}')\n",
    "    plt.legend(loc='upper right')\n",
    "    plt.show()\n",
    "    \n",
    "    #Grafica Cantidad de incendios en funcion a los dias de duracion\n",
    "    dat = f_clean[\"Duracion en Dias\"].value_counts()\n",
    "    plt.figure(figsize=(8, 5))\n",
    "    plt.bar(dat.index, dat.values)\n",
    "    plt.title(\"Cantidad de incendios en funcion a los dias de duracion\")\n",
    "    plt.xlabel(\"Dias\")\n",
    "    plt.ylabel(\"Cantidad de incendios\")\n",
    "    plt.show()\n",
    "\n",
    "    #print(f_clean.sort_values(by='Duracion en Dias'))\n",
    "\n",
    "\n",
    "def sum_m(fecha):\n",
    "  fecha = dt.strftime(fecha, \"%m-%d-%Y\")\n",
    "  m, d, y = fecha.split(\"-\")\n",
    "  m = int(m) + 1\n",
    "  return dt.strptime(f\"{m}-{d}-{y}\", \"%m-%d-%Y\")\n",
    "\n",
    "d_prom(data)"
   ]
  },
  {
   "cell_type": "markdown",
   "metadata": {},
   "source": [
    "### ¿Existe alguna relación entre las causas de los incendios y la duración o el tamaño del área afectada?\n",
    "\n",
    "Se pueden realizar análisis de correlación para determinar si ciertas causas están asociadas con incendios más grandes o de mayor duración."
   ]
  },
  {
   "cell_type": "markdown",
   "metadata": {},
   "source": [
    "##### Tiempo promedio tomado para erradiar los incendios, según la causa y la provincia.\n"
   ]
  },
  {
   "cell_type": "code",
   "execution_count": null,
   "metadata": {},
   "outputs": [],
   "source": [
    "# Tiempo promedio tomado para erradiar los incendios, según la causa\n",
    "import datetime\n",
    "\n",
    "datav2 = data.copy()\n",
    "\n",
    "datav2[\"Duracion Promedio Ext.\"] =  datav2[\"Fecha Extincion\"] - datav2[\"Fecha origen\"]\n",
    "datav2 = datav2.groupby([\"Causas\"])[\"Duracion Promedio Ext.\"].mean()\n",
    "datav2.sort_values()"
   ]
  },
  {
   "cell_type": "code",
   "execution_count": null,
   "metadata": {},
   "outputs": [],
   "source": [
    "plt.figure(figsize=(8, 5))\n",
    "plt.barh(datav2.index, datav2.values)\n",
    "plt.title(\"Tiempo promedio tomado para erradiar los incendios\")\n",
    "plt.xlabel(\"Días\")\n",
    "plt.ylabel(\"Causas de incendios\")\n",
    "plt.show()"
   ]
  },
  {
   "cell_type": "markdown",
   "metadata": {},
   "source": [
    "##### Metros cuadrados totales afectados por tipo de causa."
   ]
  },
  {
   "cell_type": "code",
   "execution_count": null,
   "metadata": {},
   "outputs": [],
   "source": [
    "causes_meter = data.groupby([\"Causas\"]).agg({\"Metros Cuadrados\":\"sum\", \"no.\":\"size\"}).reset_index()\n",
    "causes_meter"
   ]
  },
  {
   "cell_type": "code",
   "execution_count": null,
   "metadata": {},
   "outputs": [],
   "source": [
    "causes_meter.plot.barh(x=\"Causas\")"
   ]
  },
  {
   "cell_type": "markdown",
   "metadata": {},
   "source": [
    "### ¿Cuál es la tendencia de los incendios forestales a lo largo del tiempo?\n",
    "\n",
    "Al analizar la columna de fecha de origen, se pueden identificar tendencias a lo largo de los años, como si la frecuencia o la magnitud de los incendios ha aumentado o disminuido con el tiempo."
   ]
  },
  {
   "cell_type": "code",
   "execution_count": null,
   "metadata": {},
   "outputs": [],
   "source": [
    "forest_fire_trend = data.groupby(\"Mes de origen\")[\"Mes de origen\"].size()\n",
    "forest_fire_trend.sort_values(ascending=False).reset_index(name = \"Cant. Incendios\")"
   ]
  },
  {
   "cell_type": "code",
   "execution_count": null,
   "metadata": {},
   "outputs": [],
   "source": [
    "forest_fire_trend\n",
    "#plt.scatter(forest_fire_trend)\n",
    "#plt.show()"
   ]
  },
  {
   "cell_type": "markdown",
   "metadata": {},
   "source": [
    "## ¿Cuál es el impacto económico de los incendios forestales en términos de pérdida de metros cuadrados y recursos utilizados para la extinción?"
   ]
  },
  {
   "cell_type": "code",
   "execution_count": null,
   "metadata": {},
   "outputs": [],
   "source": [
    "gasto_total = 6786000  # 6,786,000 pesos dominicanos\n",
    "datos = data.copy()\n",
    "\n",
    "# Calcula el gasto por metro cuadrado para cada fila\n",
    "datos['Gasto por metro cuadrado (DOP)'] = gasto_total / datos['Metros Cuadrados']\n",
    "\n",
    "# Agrupa los datos por provincia y calcular el promedio del gasto por metro cuadrado\n",
    "gasto_promedio_por_provincia = datos.groupby('Provincia')['Gasto por metro cuadrado (DOP)'].mean()\n",
    "\n",
    "# Ordena los valores para identificar las provincias con el mayor gasto por metro cuadrado\n",
    "provincias_con_mayor_gasto = gasto_promedio_por_provincia.sort_values(ascending=False)\n",
    "\n",
    "# Obtiene los metros cuadrados para cada provincia\n",
    "metros_cuadrados_por_provincia = datos.groupby('Provincia')['Metros Cuadrados'].sum()\n",
    "\n",
    "# Modifica el índice para incluir los metros cuadrados junto al nombre de la provincia\n",
    "provincias_con_mayor_gasto.index = provincias_con_mayor_gasto.index + ' (' + metros_cuadrados_por_provincia.astype(str) + ' m^2)'\n",
    "\n",
    "# Imprime el resultado\n",
    "print(\"Provincias con el mayor gasto por metro cuadrado:\")\n",
    "print(provincias_con_mayor_gasto)\n"
   ]
  },
  {
   "cell_type": "code",
   "execution_count": null,
   "metadata": {},
   "outputs": [],
   "source": [
    "plt.figure(figsize=(10, 6))\n",
    "provincias_con_mayor_gasto.plot(kind='bar', color='skyblue')\n",
    "plt.title('Gasto promedio por metro cuadrado por provincia\\n Gasto promedio mensual de 6,786,000 (DOP)')\n",
    "plt.xlabel('Provincia')\n",
    "plt.ylabel('gasto_por_metro_cuadrado (Dop)')\n",
    "plt.xticks(rotation=45, ha='right')\n",
    "plt.tight_layout()\n",
    "plt.show()"
   ]
  },
  {
   "cell_type": "code",
   "execution_count": null,
   "metadata": {},
   "outputs": [],
   "source": [
    "# Agrupa los datos por provincia y causa de incendio, y contar la frecuencia\n",
    "causas_por_provincia = datos.groupby(['Provincia', 'Causas'])['Causas'].count()\n",
    "\n",
    "# Encuentra la causa más común por provincia\n",
    "causas_principales_por_provincia = causas_por_provincia.groupby(level=0).idxmax().reset_index()\n",
    "\n",
    "# Imprime el resultado\n",
    "print(\"Principales causas de incendios por provincia:\")\n",
    "print(causas_principales_por_provincia)\n"
   ]
  },
  {
   "cell_type": "code",
   "execution_count": null,
   "metadata": {},
   "outputs": [],
   "source": [
    "# Contar la frecuencia de cada causa de incendio por provincia\n",
    "causas_por_provincia = datos.groupby(['Provincia', 'Causas']).size().unstack(fill_value=0)\n",
    "\n",
    "# Graficar\n",
    "causas_por_provincia.plot(kind='bar', stacked=True, figsize=(10, 6))\n",
    "plt.xlabel('Provincia')\n",
    "plt.ylabel('Número de Incendios')\n",
    "plt.title('Causas de Incendios por Provincia')\n",
    "plt.legend(title='Causas', bbox_to_anchor=(1.05, 1), loc='upper left')\n",
    "plt.xticks(rotation=45, ha='right')\n",
    "plt.tight_layout()\n",
    "plt.show()"
   ]
  },
  {
   "cell_type": "markdown",
   "metadata": {},
   "source": [
    "# Resumen de incendios (2000 a 2024)"
   ]
  },
  {
   "cell_type": "code",
   "execution_count": null,
   "metadata": {},
   "outputs": [],
   "source": [
    "incendios_2000_act = pd.read_csv(\"./data/Incendios-Forestales-Ocurridos-2000-2024-ene.csv\")\n",
    "incendios_2000_act.set_index(\"Años\")\n",
    "\n",
    "incendios_2000_act.plot.bar(x=\"Años\", y=\"Cantidad de incendios\")"
   ]
  },
  {
   "cell_type": "code",
   "execution_count": null,
   "metadata": {},
   "outputs": [],
   "source": [
    "causa_2k21_to_2k24 = pd.read_csv(\"./data/Incendio-ocurridos-por-causa-2021-2024.csv\")\n",
    "resumen = causa_2k21_to_2k24.groupby([\"Causa del Incendio\", \"Año\"])[\"Cantidad de incendio\"].sum().reset_index(name = \"Cant. incendios\").set_index(\"Año\")\n",
    "resumen"
   ]
  },
  {
   "cell_type": "code",
   "execution_count": null,
   "metadata": {},
   "outputs": [],
   "source": []
  }
 ],
 "metadata": {
  "kernelspec": {
   "display_name": "Python 3 (ipykernel)",
   "language": "python",
   "name": "python3"
  },
  "language_info": {
   "codemirror_mode": {
    "name": "ipython",
    "version": 3
   },
   "file_extension": ".py",
   "mimetype": "text/x-python",
   "name": "python",
   "nbconvert_exporter": "python",
   "pygments_lexer": "ipython3",
   "version": "3.9.7"
  }
 },
 "nbformat": 4,
 "nbformat_minor": 4
}
